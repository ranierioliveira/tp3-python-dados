{
 "cells": [
  {
   "cell_type": "markdown",
   "metadata": {},
   "source": [
    "Chegamos em uma das etapas de preparação! A cada Teste de Performance (TP) você terá a oportunidade de praticar os conhecimentos adquiridos e receber feedbacks relevantes para o seu aprendizado.\n",
    "\n",
    "## **Contexto**\n",
    "Contexto: Você continua como cientista de dados na INFwebNET, agora com novas responsabilidades relacionadas ao gerenciamento e análise de dados armazenados em arquivos Excel e um banco de dados SQL. Os exercícios a seguir irão guiá-lo por situações práticas que abrangem a manipulação de dados, tratamento de exceções e o uso do SQL para nossa rede social fictícia. \n",
    "Prepare-se para consolidar e expandir suas habilidades!\n",
    "Leia todo o enunciado. \n",
    "Você pode decidir atender a mais de um item com uma única função se achar conveniente, indique quais itens estão sendo atendidos em cada trecho ou bloco de código.\n"
   ]
  },
  {
   "cell_type": "markdown",
   "metadata": {},
   "source": [
    "\n",
    "#### Uso de IAs: Sinal Vermelho 🔴 \n",
    "Todas as partes deste trabalho devem ser da autoria do aluno. Qualquer uso de ferramentas generativas de IA, como ChatGPT, é proibido. O uso de IA generativa será considerado má conduta acadêmica e estará sujeito à aplicação do código disciplinar, pois as tarefas deste trabalho foram elaboradas para desafiar o aluno a desenvolver conhecimentos de base, pensamento crítico e habilidades de resolução de problemas. O uso da tecnologia de IA limitaria sua capacidade de desenvolver essas competências e de atingir os objetivos de aprendizagem desta disciplina.\n"
   ]
  },
  {
   "cell_type": "markdown",
   "metadata": {},
   "source": [
    "# Requisitos"
   ]
  },
  {
   "cell_type": "markdown",
   "metadata": {},
   "source": [
    "\n",
    "## 1. Tratamento de Erros ao Carregar Arquivo\n",
    "Abra o arquivo \"dados_usuarios.csv\" usando o bloco try...except. Exiba uma mensagem de erro se o arquivo não for encontrado (erro específico) e informe ao usuário que o arquivo está em falta."
   ]
  },
  {
   "cell_type": "code",
   "execution_count": null,
   "metadata": {},
   "outputs": [],
   "source": []
  },
  {
   "cell_type": "markdown",
   "metadata": {},
   "source": [
    "### 2. Explorando Dados do csv\n",
    "Abra o arquivo \"dados_usuarios.csv\", que contém informações dos usuários. Exiba as 10 primeiras linhas do arquivo e liste todas as colunas presentes no arquivo."
   ]
  },
  {
   "cell_type": "code",
   "execution_count": null,
   "metadata": {},
   "outputs": [],
   "source": []
  },
  {
   "cell_type": "markdown",
   "metadata": {},
   "source": [
    "### 3. Manipulação de Dados Básica\n",
    "Usando Pandas, selecione apenas os usuários com idade maior que 30 e salve esses dados em um novo arquivo chamado \"INFwebNET_30mais.xlsx\".\n"
   ]
  },
  {
   "cell_type": "code",
   "execution_count": null,
   "metadata": {},
   "outputs": [],
   "source": []
  },
  {
   "cell_type": "markdown",
   "metadata": {},
   "source": [
    "### Limpeza de Dados\n",
    "Para o DataFrame anterior proceda com as seguintes tarefas de limpeza de dados:\n",
    "\n",
    "4. Remova todos os usuários que não possuírem e-mail válido cadastrado.\n",
    "\n",
    "5. Preencha os valores ausente do campo “cidade” com o texto “Não Informada”.\n",
    "\n",
    "6. Preencha os dados ausentes na coluna “estado” com “ZZ”.\n"
   ]
  },
  {
   "cell_type": "code",
   "execution_count": null,
   "metadata": {},
   "outputs": [],
   "source": []
  },
  {
   "cell_type": "markdown",
   "metadata": {},
   "source": [
    "### 7. Combinação de Arquivos Excel\n",
    "A INFwebNET possui dados históricos de usuários em arquivo Excel com o nome “INFwebNET_Historico.xlsx”, onde há duas tabelas, “INFwebNET2022” e “INFwebNET2023”, cada uma referente a um ano. \n",
    "Use um bloco try...except para carregar as planilhas do arquivo \"INFwebNET_Historico.xlsx\" e, se o arquivo for carregado com sucesso, exiba o número total de linhas de cada planilha. Caso ocorra uma exceção, mostre uma mensagem de erro apropriada."
   ]
  },
  {
   "cell_type": "code",
   "execution_count": null,
   "metadata": {},
   "outputs": [],
   "source": []
  },
  {
   "cell_type": "markdown",
   "metadata": {},
   "source": [
    "### 8. Combinação de Arquivos Excel \n",
    "Carregue a informação das duas planilhas, combine as informações em um único DataFrame e remova duplicatas baseado na coluna \"id\"."
   ]
  },
  {
   "cell_type": "code",
   "execution_count": null,
   "metadata": {},
   "outputs": [],
   "source": []
  },
  {
   "cell_type": "markdown",
   "metadata": {},
   "source": [
    "### 9. Carregando Dados em SQL\n",
    "Conecte-se a um banco de dados SQLite chamado \"INFwebNET_DB.db\" usando SQLAlchemy. Carregue os dados combinados do item anterior para uma tabela chamada \"Usuarios_Historicos\"."
   ]
  },
  {
   "cell_type": "code",
   "execution_count": null,
   "metadata": {},
   "outputs": [],
   "source": []
  },
  {
   "cell_type": "markdown",
   "metadata": {},
   "source": [
    "### 10. Consultando o Banco de Dados SQL\n",
    "Escreva uma consulta usando Pandas que retorne apenas os usuários com idade entre 22 e 30 anos existentes na tabela “Usuarios_Historicos”. Exiba o resultado na tela."
   ]
  },
  {
   "cell_type": "code",
   "execution_count": null,
   "metadata": {},
   "outputs": [],
   "source": []
  },
  {
   "cell_type": "markdown",
   "metadata": {},
   "source": [
    "### 11. Consolidando Dados\n",
    "Utilizando o Pandas e SQLAlchemy crie uma nova tabela no banco de dados chamada “Consolidado” e insira nesta tabela todos os dados obtidos nos itens anteriores.\n",
    "\n"
   ]
  },
  {
   "cell_type": "code",
   "execution_count": null,
   "metadata": {},
   "outputs": [],
   "source": []
  },
  {
   "cell_type": "markdown",
   "metadata": {},
   "source": [
    "### 12. Atualizando idade\n",
    "Consulte todos os dados da tabela “Consolidado” e recalcule a idade de todos os usuários considerando a data de 22 de julho de 2024. Exporte os dados atualizados para uma tabela SQL chamada “Consolidado_Atualizado”.\n"
   ]
  },
  {
   "cell_type": "code",
   "execution_count": null,
   "metadata": {},
   "outputs": [],
   "source": []
  },
  {
   "cell_type": "markdown",
   "metadata": {},
   "source": [
    "### 13. Exceção Customizada para Dados Ausentes\n",
    "Implemente uma função que leia os dados da tabela “Consolidado” e lance uma exceção customizada chamada \"DadosAusentesError\" se alguma coluna apresentar um dado faltante. Utilize um bloco try...except para capturar essa exceção e listar o e-mail do INFNETiano em questão caso a exceção seja levantada, e salve o e-mail em um arquivo txt chamado, “dados_ausentes.txt”."
   ]
  },
  {
   "cell_type": "code",
   "execution_count": null,
   "metadata": {},
   "outputs": [],
   "source": []
  },
  {
   "cell_type": "markdown",
   "metadata": {},
   "source": [
    "### Try…Except Completo\n",
    "Escreva uma função que leia todos os arquivos: “dados_usuario.csv”, “INFwebNET_30mais.xlsx\", “INFwebNET_Historico.xlsx”, \"INFwebNET_DB.db\" e “dados_ausentes.txt” utilizando uma estrutura try...except completa de forma que cada tentativa de leitura seja feita dentro de um try que capture e lide com os seguintes tipos de exceções: `FileNotFoundError`, `MemoryError`, `RuntimeError`, `EOFError`, `OSError`, `ConnectionError`, `TimeoutError` e `PermissionError`.\n",
    "\n",
    "14. Lide com cada tipo de exceção exibindo uma mensagem apropriada e siga para o próximo arquivo ou encerre o programa quando for apropriado.\n",
    "    \n",
    "15. Utilize um bloco else para exibir a quantidade de linhas existentes no arquivo lido\n",
    "    \n",
    "16. Utilize um bloco finally para garantir o fechamento do arquivo ou da conexão."
   ]
  },
  {
   "cell_type": "code",
   "execution_count": null,
   "metadata": {},
   "outputs": [],
   "source": []
  },
  {
   "cell_type": "markdown",
   "metadata": {},
   "source": [
    "## Entrega:\n",
    "Para a entrega, certifique-se de incluir o banco de dados SQLite e arquivos resultantes de todas as manipulações e códigos em .py ou .ipynb.\n",
    "A entrega deverá ser feita pelo repositório desta atividade e em um arquivo zip através da plataforma."
   ]
  }
 ],
 "metadata": {
  "language_info": {
   "name": "python"
  }
 },
 "nbformat": 4,
 "nbformat_minor": 2
}
